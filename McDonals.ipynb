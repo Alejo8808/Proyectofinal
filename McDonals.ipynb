{
 "cells": [
  {
   "cell_type": "code",
   "execution_count": 481,
   "id": "ed9a695e",
   "metadata": {},
   "outputs": [],
   "source": [
    "import pandas as pd\n",
    "import numpy as np\n",
    "import tensorflow as tf\n",
    "from tensorflow.keras.preprocessing.text import Tokenizer\n",
    "from tensorflow.keras.preprocessing.sequence import pad_sequences\n",
    "from tensorflow.keras.models import Sequential\n",
    "from tensorflow.keras.layers import Embedding, LSTM, Dense, Dropout\n",
    "from sklearn.model_selection import train_test_split\n",
    "from sklearn.preprocessing import LabelBinarizer\n",
    "import matplotlib.pyplot as plt\n",
    "from IPython.display import display\n",
    "from deep_translator import GoogleTranslator\n",
    "\n"
   ]
  },
  {
   "cell_type": "code",
   "execution_count": 482,
   "id": "e52088f4",
   "metadata": {},
   "outputs": [],
   "source": [
    "#Cargar y preparar los datos\n",
    "try:\n",
    "    df = pd.read_csv(\"McDonald.csv\", encoding='latin1')\n",
    "except FileNotFoundError:\n",
    "    print(\"Error: El archivo 'McDonalds_Reviews.csv' no se encuentra.\")\n",
    "    print(\"Por favor, asegúrate de que el archivo está en el mismo directorio.\")\n",
    "    exit()\n"
   ]
  },
  {
   "cell_type": "code",
   "execution_count": 483,
   "id": "1cf76ea3",
   "metadata": {},
   "outputs": [
    {
     "data": {
      "text/html": [
       "<div>\n",
       "<style scoped>\n",
       "    .dataframe tbody tr th:only-of-type {\n",
       "        vertical-align: middle;\n",
       "    }\n",
       "\n",
       "    .dataframe tbody tr th {\n",
       "        vertical-align: top;\n",
       "    }\n",
       "\n",
       "    .dataframe thead th {\n",
       "        text-align: right;\n",
       "    }\n",
       "</style>\n",
       "<table border=\"1\" class=\"dataframe\">\n",
       "  <thead>\n",
       "    <tr style=\"text-align: right;\">\n",
       "      <th></th>\n",
       "      <th>reviewer_id</th>\n",
       "      <th>store_name</th>\n",
       "      <th>category</th>\n",
       "      <th>store_address</th>\n",
       "      <th>latitude</th>\n",
       "      <th>longitude</th>\n",
       "      <th>rating_count</th>\n",
       "      <th>review_time</th>\n",
       "      <th>review</th>\n",
       "      <th>rating</th>\n",
       "    </tr>\n",
       "  </thead>\n",
       "  <tbody>\n",
       "    <tr>\n",
       "      <th>0</th>\n",
       "      <td>1</td>\n",
       "      <td>McDonald's</td>\n",
       "      <td>Fast food restaurant</td>\n",
       "      <td>13749 US-183 Hwy, Austin, TX 78750, United States</td>\n",
       "      <td>30.460718</td>\n",
       "      <td>-97.792874</td>\n",
       "      <td>1,240</td>\n",
       "      <td>3 months ago</td>\n",
       "      <td>Why does it look like someone spit on my food?...</td>\n",
       "      <td>1 star</td>\n",
       "    </tr>\n",
       "    <tr>\n",
       "      <th>1</th>\n",
       "      <td>2</td>\n",
       "      <td>McDonald's</td>\n",
       "      <td>Fast food restaurant</td>\n",
       "      <td>13749 US-183 Hwy, Austin, TX 78750, United States</td>\n",
       "      <td>30.460718</td>\n",
       "      <td>-97.792874</td>\n",
       "      <td>1,240</td>\n",
       "      <td>5 days ago</td>\n",
       "      <td>It'd McDonalds. It is what it is as far as the...</td>\n",
       "      <td>4 stars</td>\n",
       "    </tr>\n",
       "    <tr>\n",
       "      <th>2</th>\n",
       "      <td>3</td>\n",
       "      <td>McDonald's</td>\n",
       "      <td>Fast food restaurant</td>\n",
       "      <td>13749 US-183 Hwy, Austin, TX 78750, United States</td>\n",
       "      <td>30.460718</td>\n",
       "      <td>-97.792874</td>\n",
       "      <td>1,240</td>\n",
       "      <td>5 days ago</td>\n",
       "      <td>Made a mobile order got to the speaker and che...</td>\n",
       "      <td>1 star</td>\n",
       "    </tr>\n",
       "    <tr>\n",
       "      <th>3</th>\n",
       "      <td>4</td>\n",
       "      <td>McDonald's</td>\n",
       "      <td>Fast food restaurant</td>\n",
       "      <td>13749 US-183 Hwy, Austin, TX 78750, United States</td>\n",
       "      <td>30.460718</td>\n",
       "      <td>-97.792874</td>\n",
       "      <td>1,240</td>\n",
       "      <td>a month ago</td>\n",
       "      <td>My mc. Crispy chicken sandwich was ï¿½ï¿½ï¿½ï¿...</td>\n",
       "      <td>5 stars</td>\n",
       "    </tr>\n",
       "    <tr>\n",
       "      <th>4</th>\n",
       "      <td>5</td>\n",
       "      <td>McDonald's</td>\n",
       "      <td>Fast food restaurant</td>\n",
       "      <td>13749 US-183 Hwy, Austin, TX 78750, United States</td>\n",
       "      <td>30.460718</td>\n",
       "      <td>-97.792874</td>\n",
       "      <td>1,240</td>\n",
       "      <td>2 months ago</td>\n",
       "      <td>I repeat my order 3 times in the drive thru, a...</td>\n",
       "      <td>1 star</td>\n",
       "    </tr>\n",
       "  </tbody>\n",
       "</table>\n",
       "</div>"
      ],
      "text/plain": [
       "   reviewer_id  store_name              category  \\\n",
       "0            1  McDonald's  Fast food restaurant   \n",
       "1            2  McDonald's  Fast food restaurant   \n",
       "2            3  McDonald's  Fast food restaurant   \n",
       "3            4  McDonald's  Fast food restaurant   \n",
       "4            5  McDonald's  Fast food restaurant   \n",
       "\n",
       "                                       store_address  latitude   longitude  \\\n",
       "0  13749 US-183 Hwy, Austin, TX 78750, United States  30.460718 -97.792874   \n",
       "1  13749 US-183 Hwy, Austin, TX 78750, United States  30.460718 -97.792874   \n",
       "2  13749 US-183 Hwy, Austin, TX 78750, United States  30.460718 -97.792874   \n",
       "3  13749 US-183 Hwy, Austin, TX 78750, United States  30.460718 -97.792874   \n",
       "4  13749 US-183 Hwy, Austin, TX 78750, United States  30.460718 -97.792874   \n",
       "\n",
       "  rating_count   review_time  \\\n",
       "0        1,240  3 months ago   \n",
       "1        1,240    5 days ago   \n",
       "2        1,240    5 days ago   \n",
       "3        1,240   a month ago   \n",
       "4        1,240  2 months ago   \n",
       "\n",
       "                                              review   rating  \n",
       "0  Why does it look like someone spit on my food?...   1 star  \n",
       "1  It'd McDonalds. It is what it is as far as the...  4 stars  \n",
       "2  Made a mobile order got to the speaker and che...   1 star  \n",
       "3  My mc. Crispy chicken sandwich was ï¿½ï¿½ï¿½ï¿...  5 stars  \n",
       "4  I repeat my order 3 times in the drive thru, a...   1 star  "
      ]
     },
     "execution_count": 483,
     "metadata": {},
     "output_type": "execute_result"
    }
   ],
   "source": [
    "#imprimir\n",
    "df.head()"
   ]
  },
  {
   "cell_type": "code",
   "execution_count": 484,
   "id": "2931a6eb",
   "metadata": {},
   "outputs": [
    {
     "data": {
      "text/plain": [
       "Index(['reviewer_id', 'store_name', 'category', 'store_address', 'latitude ',\n",
       "       'longitude', 'rating_count', 'review_time', 'review', 'rating'],\n",
       "      dtype='object')"
      ]
     },
     "execution_count": 484,
     "metadata": {},
     "output_type": "execute_result"
    }
   ],
   "source": [
    "#verificar columnas\n",
    "df.columns"
   ]
  },
  {
   "cell_type": "code",
   "execution_count": 485,
   "id": "ea61da7f",
   "metadata": {},
   "outputs": [],
   "source": [
    "# Crear un DataFrame de ejemplo\n",
    "#data = {'review': ['Buen servicio y comida deliciosa.', 'La comida estaba fría y el lugar sucio.',\n",
    "                   #'Me encantan sus papas fritas.', 'El personal es lento, mala experiencia.',\n",
    "                   #'Todo perfecto, volveré pronto.', 'Nunca más volveré, horrible lugar.',\n",
    "                   #'El café estaba bien, pero la fila era muy larga.', 'Me gustó el ambiente.',\n",
    "                   #'El servicio es lento.', 'Una experiencia terrible.', 'Muy buen restaurante.'],\n",
    "        #'rating': [5, 1, 5, 2, 4, 1, 3, 4, 2, 1, 5]}\n",
    "#df = pd.DataFrame(data)"
   ]
  },
  {
   "cell_type": "code",
   "execution_count": 486,
   "id": "44c9f345",
   "metadata": {},
   "outputs": [
    {
     "name": "stdout",
     "output_type": "stream",
     "text": [
      "Resumen de valores nulos:\n"
     ]
    },
    {
     "data": {
      "text/html": [
       "<style type=\"text/css\">\n",
       "#T_beb46_row0_col2, #T_beb46_row0_col3, #T_beb46_row1_col2, #T_beb46_row1_col3, #T_beb46_row2_col2, #T_beb46_row2_col3, #T_beb46_row3_col2, #T_beb46_row3_col3, #T_beb46_row6_col2, #T_beb46_row6_col3, #T_beb46_row7_col2, #T_beb46_row7_col3, #T_beb46_row8_col2, #T_beb46_row8_col3, #T_beb46_row9_col2, #T_beb46_row9_col3 {\n",
       "  background-color: #4454c3;\n",
       "  color: #f1f1f1;\n",
       "}\n",
       "#T_beb46_row4_col2, #T_beb46_row4_col3, #T_beb46_row5_col2, #T_beb46_row5_col3 {\n",
       "  background-color: #810602;\n",
       "  color: #f1f1f1;\n",
       "}\n",
       "</style>\n",
       "<table id=\"T_beb46\">\n",
       "  <thead>\n",
       "    <tr>\n",
       "      <th class=\"blank level0\" >&nbsp;</th>\n",
       "      <th id=\"T_beb46_level0_col0\" class=\"col_heading level0 col0\" >features</th>\n",
       "      <th id=\"T_beb46_level0_col1\" class=\"col_heading level0 col1\" >dtypes</th>\n",
       "      <th id=\"T_beb46_level0_col2\" class=\"col_heading level0 col2\" >NaN count</th>\n",
       "      <th id=\"T_beb46_level0_col3\" class=\"col_heading level0 col3\" >NaN percentage</th>\n",
       "    </tr>\n",
       "  </thead>\n",
       "  <tbody>\n",
       "    <tr>\n",
       "      <th id=\"T_beb46_level0_row0\" class=\"row_heading level0 row0\" >0</th>\n",
       "      <td id=\"T_beb46_row0_col0\" class=\"data row0 col0\" >reviewer_id</td>\n",
       "      <td id=\"T_beb46_row0_col1\" class=\"data row0 col1\" >int64</td>\n",
       "      <td id=\"T_beb46_row0_col2\" class=\"data row0 col2\" >0</td>\n",
       "      <td id=\"T_beb46_row0_col3\" class=\"data row0 col3\" >0.000000</td>\n",
       "    </tr>\n",
       "    <tr>\n",
       "      <th id=\"T_beb46_level0_row1\" class=\"row_heading level0 row1\" >1</th>\n",
       "      <td id=\"T_beb46_row1_col0\" class=\"data row1 col0\" >store_name</td>\n",
       "      <td id=\"T_beb46_row1_col1\" class=\"data row1 col1\" >object</td>\n",
       "      <td id=\"T_beb46_row1_col2\" class=\"data row1 col2\" >0</td>\n",
       "      <td id=\"T_beb46_row1_col3\" class=\"data row1 col3\" >0.000000</td>\n",
       "    </tr>\n",
       "    <tr>\n",
       "      <th id=\"T_beb46_level0_row2\" class=\"row_heading level0 row2\" >2</th>\n",
       "      <td id=\"T_beb46_row2_col0\" class=\"data row2 col0\" >category</td>\n",
       "      <td id=\"T_beb46_row2_col1\" class=\"data row2 col1\" >object</td>\n",
       "      <td id=\"T_beb46_row2_col2\" class=\"data row2 col2\" >0</td>\n",
       "      <td id=\"T_beb46_row2_col3\" class=\"data row2 col3\" >0.000000</td>\n",
       "    </tr>\n",
       "    <tr>\n",
       "      <th id=\"T_beb46_level0_row3\" class=\"row_heading level0 row3\" >3</th>\n",
       "      <td id=\"T_beb46_row3_col0\" class=\"data row3 col0\" >store_address</td>\n",
       "      <td id=\"T_beb46_row3_col1\" class=\"data row3 col1\" >object</td>\n",
       "      <td id=\"T_beb46_row3_col2\" class=\"data row3 col2\" >0</td>\n",
       "      <td id=\"T_beb46_row3_col3\" class=\"data row3 col3\" >0.000000</td>\n",
       "    </tr>\n",
       "    <tr>\n",
       "      <th id=\"T_beb46_level0_row4\" class=\"row_heading level0 row4\" >4</th>\n",
       "      <td id=\"T_beb46_row4_col0\" class=\"data row4 col0\" >latitude </td>\n",
       "      <td id=\"T_beb46_row4_col1\" class=\"data row4 col1\" >float64</td>\n",
       "      <td id=\"T_beb46_row4_col2\" class=\"data row4 col2\" >660</td>\n",
       "      <td id=\"T_beb46_row4_col3\" class=\"data row4 col3\" >0.019763</td>\n",
       "    </tr>\n",
       "    <tr>\n",
       "      <th id=\"T_beb46_level0_row5\" class=\"row_heading level0 row5\" >5</th>\n",
       "      <td id=\"T_beb46_row5_col0\" class=\"data row5 col0\" >longitude</td>\n",
       "      <td id=\"T_beb46_row5_col1\" class=\"data row5 col1\" >float64</td>\n",
       "      <td id=\"T_beb46_row5_col2\" class=\"data row5 col2\" >660</td>\n",
       "      <td id=\"T_beb46_row5_col3\" class=\"data row5 col3\" >0.019763</td>\n",
       "    </tr>\n",
       "    <tr>\n",
       "      <th id=\"T_beb46_level0_row6\" class=\"row_heading level0 row6\" >6</th>\n",
       "      <td id=\"T_beb46_row6_col0\" class=\"data row6 col0\" >rating_count</td>\n",
       "      <td id=\"T_beb46_row6_col1\" class=\"data row6 col1\" >object</td>\n",
       "      <td id=\"T_beb46_row6_col2\" class=\"data row6 col2\" >0</td>\n",
       "      <td id=\"T_beb46_row6_col3\" class=\"data row6 col3\" >0.000000</td>\n",
       "    </tr>\n",
       "    <tr>\n",
       "      <th id=\"T_beb46_level0_row7\" class=\"row_heading level0 row7\" >7</th>\n",
       "      <td id=\"T_beb46_row7_col0\" class=\"data row7 col0\" >review_time</td>\n",
       "      <td id=\"T_beb46_row7_col1\" class=\"data row7 col1\" >object</td>\n",
       "      <td id=\"T_beb46_row7_col2\" class=\"data row7 col2\" >0</td>\n",
       "      <td id=\"T_beb46_row7_col3\" class=\"data row7 col3\" >0.000000</td>\n",
       "    </tr>\n",
       "    <tr>\n",
       "      <th id=\"T_beb46_level0_row8\" class=\"row_heading level0 row8\" >8</th>\n",
       "      <td id=\"T_beb46_row8_col0\" class=\"data row8 col0\" >review</td>\n",
       "      <td id=\"T_beb46_row8_col1\" class=\"data row8 col1\" >object</td>\n",
       "      <td id=\"T_beb46_row8_col2\" class=\"data row8 col2\" >0</td>\n",
       "      <td id=\"T_beb46_row8_col3\" class=\"data row8 col3\" >0.000000</td>\n",
       "    </tr>\n",
       "    <tr>\n",
       "      <th id=\"T_beb46_level0_row9\" class=\"row_heading level0 row9\" >9</th>\n",
       "      <td id=\"T_beb46_row9_col0\" class=\"data row9 col0\" >rating</td>\n",
       "      <td id=\"T_beb46_row9_col1\" class=\"data row9 col1\" >object</td>\n",
       "      <td id=\"T_beb46_row9_col2\" class=\"data row9 col2\" >0</td>\n",
       "      <td id=\"T_beb46_row9_col3\" class=\"data row9 col3\" >0.000000</td>\n",
       "    </tr>\n",
       "  </tbody>\n",
       "</table>\n"
      ],
      "text/plain": [
       "<pandas.io.formats.style.Styler at 0x1cc2d4b4b90>"
      ]
     },
     "metadata": {},
     "output_type": "display_data"
    }
   ],
   "source": [
    "#Verificar los valores nulos con la función null_count()\n",
    "def null_count(df_to_check):\n",
    "    return pd.DataFrame({'features': df_to_check.columns,\n",
    "                         'dtypes': df_to_check.dtypes.values,\n",
    "                         'NaN count': df_to_check.isnull().sum().values,\n",
    "                         'NaN percentage': df_to_check.isnull().sum().values / df_to_check.shape[0]}).style.background_gradient(cmap='turbo', low=0.1, high=0.01)\n",
    "\n",
    "print(\"Resumen de valores nulos:\")\n",
    "display(null_count(df))\n"
   ]
  },
  {
   "cell_type": "code",
   "execution_count": 487,
   "id": "1f20eddc",
   "metadata": {},
   "outputs": [
    {
     "data": {
      "text/plain": [
       "np.int64(0)"
      ]
     },
     "execution_count": 487,
     "metadata": {},
     "output_type": "execute_result"
    }
   ],
   "source": [
    "df.duplicated().sum()"
   ]
  },
  {
   "cell_type": "code",
   "execution_count": 488,
   "id": "00eecc03",
   "metadata": {},
   "outputs": [],
   "source": [
    "#Calcular los valores no nulos por columna\n",
    "non_null_counts = df.count()"
   ]
  },
  {
   "cell_type": "code",
   "execution_count": 489,
   "id": "d4e17d53",
   "metadata": {},
   "outputs": [
    {
     "data": {
      "text/plain": [
       "<Axes: >"
      ]
     },
     "execution_count": 489,
     "metadata": {},
     "output_type": "execute_result"
    },
    {
     "data": {
      "image/png": "[encoded data removed]",
      "text/plain": [
       "<Figure size 1000x600 with 1 Axes>"
      ]
     },
     "metadata": {},
     "output_type": "display_data"
    }
   ],
   "source": [
    "#Crear el gráfico de barras\n",
    "plt.figure(figsize=(10, 6)) # Define el tamaño del gráfico\n",
    "non_null_counts.plot(kind='bar', color='skyblue') # Usa el método de plot de Pandas#"
   ]
  },
  {
   "cell_type": "code",
   "execution_count": 490,
   "id": "41b3695f",
   "metadata": {},
   "outputs": [
    {
     "name": "stdout",
     "output_type": "stream",
     "text": [
      "\n",
      "Filas con valores nulos eliminadas.\n"
     ]
    }
   ],
   "source": [
    "#Eliminar filas con valores nulos en 'review' y 'rating'\n",
    "df.dropna(subset=['review', 'rating'], inplace=True)\n",
    "df['rating'] = df['rating'].astype(str).str.extract('(\\\\d)').astype(float)\n",
    "df.dropna(subset=['rating'], inplace=True)\n",
    "print(\"\\nFilas con valores nulos eliminadas.\")\n"
   ]
  },
  {
   "cell_type": "code",
   "execution_count": 491,
   "id": "7f47569e",
   "metadata": {},
   "outputs": [],
   "source": [
    "# Clasificación de sentimientos\n",
    "df['sentiment'] = df['rating'].apply(lambda x: 'positivo' if x >= 4 else ('neutral' if x == 3 else 'negativo'))\n"
   ]
  },
  {
   "cell_type": "code",
   "execution_count": 492,
   "id": "c76bd223",
   "metadata": {},
   "outputs": [
    {
     "name": "stdout",
     "output_type": "stream",
     "text": [
      "\n",
      "Datos listos para el preprocesamiento.\n"
     ]
    }
   ],
   "source": [
    "# Definir las variables X e y\n",
    "X = df['review'].values\n",
    "y = df['sentiment'].values\n",
    "print(\"\\nDatos listos para el preprocesamiento.\")\n"
   ]
  },
  {
   "cell_type": "code",
   "execution_count": 493,
   "id": "1e12c48c",
   "metadata": {},
   "outputs": [],
   "source": [
    "# División de datos en conjunto de entrenamiento y prueba\n",
    "X_train, X_test, y_train, y_test = train_test_split(X, y, test_size=0.2, random_state=42)\n"
   ]
  },
  {
   "cell_type": "markdown",
   "id": "4be7c7d2",
   "metadata": {},
   "source": [
    "Preprocesamiento de texto para Deep Learning"
   ]
  },
  {
   "cell_type": "code",
   "execution_count": 494,
   "id": "429bea5e",
   "metadata": {},
   "outputs": [],
   "source": [
    "MAX_FEATS = 15000  # Número de palabras más comunes a considerar\n"
   ]
  },
  {
   "cell_type": "code",
   "execution_count": 495,
   "id": "2495215e",
   "metadata": {},
   "outputs": [],
   "source": [
    "# Tokenización de texto\n",
    "tokenizer = Tokenizer(num_words=MAX_FEATS)\n",
    "tokenizer.fit_on_texts(X_train)\n",
    "\n",
    "X_train_sequences = tokenizer.texts_to_sequences(X_train) # Convertir texto a secuencias de números\n",
    "X_test_sequences = tokenizer.texts_to_sequences(X_test)\n",
    "\n"
   ]
  },
  {
   "cell_type": "code",
   "execution_count": 496,
   "id": "abcffdff",
   "metadata": {},
   "outputs": [],
   "source": [
    "# Padding de  secuencias con la misma longitud\n",
    "max_sequence_len = max([len(x) for x in X_train_sequences])\n",
    "X_train_padded = pad_sequences(X_train_sequences, maxlen=max_sequence_len, padding='post')\n",
    "X_test_padded = pad_sequences(X_test_sequences, maxlen=max_sequence_len, padding='post')\n",
    "\n"
   ]
  },
  {
   "cell_type": "code",
   "execution_count": 497,
   "id": "58662d1c",
   "metadata": {},
   "outputs": [],
   "source": [
    "# Conversión de etiquetas a formato binario\n",
    "lb = LabelBinarizer()\n",
    "y_train_encoded = lb.fit_transform(y_train)\n",
    "y_test_encoded = lb.transform(y_test)\n",
    "num_classes = len(lb.classes_)"
   ]
  },
  {
   "cell_type": "markdown",
   "id": "0c9a9698",
   "metadata": {},
   "source": [
    "modelo de Deep Learning (LSTM)"
   ]
  },
  {
   "cell_type": "code",
   "execution_count": 498,
   "id": "46e50dd4",
   "metadata": {},
   "outputs": [
    {
     "name": "stderr",
     "output_type": "stream",
     "text": [
      "c:\\Users\\User\\AppData\\Local\\Programs\\Python\\Python313\\Lib\\site-packages\\keras\\src\\layers\\core\\embedding.py:97: UserWarning: Argument `input_length` is deprecated. Just remove it.\n",
      "  warnings.warn(\n"
     ]
    },
    {
     "data": {
      "text/html": [
       "<pre style=\"white-space:pre;overflow-x:auto;line-height:normal;font-family:Menlo,'DejaVu Sans Mono',consolas,'Courier New',monospace\"><span style=\"font-weight: bold\">Model: \"sequential_34\"</span>\n",
       "</pre>\n"
      ],
      "text/plain": [
       "\u001b[1mModel: \"sequential_34\"\u001b[0m\n"
      ]
     },
     "metadata": {},
     "output_type": "display_data"
    },
    {
     "data": {
      "text/html": [
       "<pre style=\"white-space:pre;overflow-x:auto;line-height:normal;font-family:Menlo,'DejaVu Sans Mono',consolas,'Courier New',monospace\">┏━━━━━━━━━━━━━━━━━━━━━━━━━━━━━━━━━┳━━━━━━━━━━━━━━━━━━━━━━━━┳━━━━━━━━━━━━━━━┓\n",
       "┃<span style=\"font-weight: bold\"> Layer (type)                    </span>┃<span style=\"font-weight: bold\"> Output Shape           </span>┃<span style=\"font-weight: bold\">       Param # </span>┃\n",
       "┡━━━━━━━━━━━━━━━━━━━━━━━━━━━━━━━━━╇━━━━━━━━━━━━━━━━━━━━━━━━╇━━━━━━━━━━━━━━━┩\n",
       "│ embedding_32 (<span style=\"color: #0087ff; text-decoration-color: #0087ff\">Embedding</span>)        │ ?                      │   <span style=\"color: #00af00; text-decoration-color: #00af00\">0</span> (unbuilt) │\n",
       "├─────────────────────────────────┼────────────────────────┼───────────────┤\n",
       "│ lstm_32 (<span style=\"color: #0087ff; text-decoration-color: #0087ff\">LSTM</span>)                  │ ?                      │   <span style=\"color: #00af00; text-decoration-color: #00af00\">0</span> (unbuilt) │\n",
       "├─────────────────────────────────┼────────────────────────┼───────────────┤\n",
       "│ dropout_32 (<span style=\"color: #0087ff; text-decoration-color: #0087ff\">Dropout</span>)            │ ?                      │             <span style=\"color: #00af00; text-decoration-color: #00af00\">0</span> │\n",
       "├─────────────────────────────────┼────────────────────────┼───────────────┤\n",
       "│ dense_82 (<span style=\"color: #0087ff; text-decoration-color: #0087ff\">Dense</span>)                │ ?                      │   <span style=\"color: #00af00; text-decoration-color: #00af00\">0</span> (unbuilt) │\n",
       "├─────────────────────────────────┼────────────────────────┼───────────────┤\n",
       "│ dense_83 (<span style=\"color: #0087ff; text-decoration-color: #0087ff\">Dense</span>)                │ ?                      │   <span style=\"color: #00af00; text-decoration-color: #00af00\">0</span> (unbuilt) │\n",
       "├─────────────────────────────────┼────────────────────────┼───────────────┤\n",
       "│ dense_84 (<span style=\"color: #0087ff; text-decoration-color: #0087ff\">Dense</span>)                │ ?                      │   <span style=\"color: #00af00; text-decoration-color: #00af00\">0</span> (unbuilt) │\n",
       "└─────────────────────────────────┴────────────────────────┴───────────────┘\n",
       "</pre>\n"
      ],
      "text/plain": [
       "┏━━━━━━━━━━━━━━━━━━━━━━━━━━━━━━━━━┳━━━━━━━━━━━━━━━━━━━━━━━━┳━━━━━━━━━━━━━━━┓\n",
       "┃\u001b[1m \u001b[0m\u001b[1mLayer (type)                   \u001b[0m\u001b[1m \u001b[0m┃\u001b[1m \u001b[0m\u001b[1mOutput Shape          \u001b[0m\u001b[1m \u001b[0m┃\u001b[1m \u001b[0m\u001b[1m      Param #\u001b[0m\u001b[1m \u001b[0m┃\n",
       "┡━━━━━━━━━━━━━━━━━━━━━━━━━━━━━━━━━╇━━━━━━━━━━━━━━━━━━━━━━━━╇━━━━━━━━━━━━━━━┩\n",
       "│ embedding_32 (\u001b[38;5;33mEmbedding\u001b[0m)        │ ?                      │   \u001b[38;5;34m0\u001b[0m (unbuilt) │\n",
       "├─────────────────────────────────┼────────────────────────┼───────────────┤\n",
       "│ lstm_32 (\u001b[38;5;33mLSTM\u001b[0m)                  │ ?                      │   \u001b[38;5;34m0\u001b[0m (unbuilt) │\n",
       "├─────────────────────────────────┼────────────────────────┼───────────────┤\n",
       "│ dropout_32 (\u001b[38;5;33mDropout\u001b[0m)            │ ?                      │             \u001b[38;5;34m0\u001b[0m │\n",
       "├─────────────────────────────────┼────────────────────────┼───────────────┤\n",
       "│ dense_82 (\u001b[38;5;33mDense\u001b[0m)                │ ?                      │   \u001b[38;5;34m0\u001b[0m (unbuilt) │\n",
       "├─────────────────────────────────┼────────────────────────┼───────────────┤\n",
       "│ dense_83 (\u001b[38;5;33mDense\u001b[0m)                │ ?                      │   \u001b[38;5;34m0\u001b[0m (unbuilt) │\n",
       "├─────────────────────────────────┼────────────────────────┼───────────────┤\n",
       "│ dense_84 (\u001b[38;5;33mDense\u001b[0m)                │ ?                      │   \u001b[38;5;34m0\u001b[0m (unbuilt) │\n",
       "└─────────────────────────────────┴────────────────────────┴───────────────┘\n"
      ]
     },
     "metadata": {},
     "output_type": "display_data"
    },
    {
     "data": {
      "text/html": [
       "<pre style=\"white-space:pre;overflow-x:auto;line-height:normal;font-family:Menlo,'DejaVu Sans Mono',consolas,'Courier New',monospace\"><span style=\"font-weight: bold\"> Total params: </span><span style=\"color: #00af00; text-decoration-color: #00af00\">0</span> (0.00 B)\n",
       "</pre>\n"
      ],
      "text/plain": [
       "\u001b[1m Total params: \u001b[0m\u001b[38;5;34m0\u001b[0m (0.00 B)\n"
      ]
     },
     "metadata": {},
     "output_type": "display_data"
    },
    {
     "data": {
      "text/html": [
       "<pre style=\"white-space:pre;overflow-x:auto;line-height:normal;font-family:Menlo,'DejaVu Sans Mono',consolas,'Courier New',monospace\"><span style=\"font-weight: bold\"> Trainable params: </span><span style=\"color: #00af00; text-decoration-color: #00af00\">0</span> (0.00 B)\n",
       "</pre>\n"
      ],
      "text/plain": [
       "\u001b[1m Trainable params: \u001b[0m\u001b[38;5;34m0\u001b[0m (0.00 B)\n"
      ]
     },
     "metadata": {},
     "output_type": "display_data"
    },
    {
     "data": {
      "text/html": [
       "<pre style=\"white-space:pre;overflow-x:auto;line-height:normal;font-family:Menlo,'DejaVu Sans Mono',consolas,'Courier New',monospace\"><span style=\"font-weight: bold\"> Non-trainable params: </span><span style=\"color: #00af00; text-decoration-color: #00af00\">0</span> (0.00 B)\n",
       "</pre>\n"
      ],
      "text/plain": [
       "\u001b[1m Non-trainable params: \u001b[0m\u001b[38;5;34m0\u001b[0m (0.00 B)\n"
      ]
     },
     "metadata": {},
     "output_type": "display_data"
    }
   ],
   "source": [
    "model = Sequential()\n",
    "model.add(Embedding(input_dim=MAX_FEATS + 1, output_dim=128, input_length=max_sequence_len)) ## Capa de Embedding: Mapea los índices de enteros a vectores densos.\n",
    "model.add(LSTM(128)) # Capa LSTM: Captura dependencias a largo plazo en secuencias.\n",
    "model.add(Dropout(0.5)) # Capa Dropout: Previene el sobreajuste.\n",
    "model.add(Dense(64, activation='relu')) # capa oculta con 64 neuronas\n",
    "model.add(Dense(32, activation='relu')) # capa oculta con 32 neuronas\n",
    "model.add(Dense(num_classes, activation='softmax')) # capa de salida\n",
    "\n",
    "model.compile(optimizer='adam',\n",
    "              loss='categorical_crossentropy',\n",
    "              metrics=['accuracy'])\n",
    "\n",
    "model.summary()"
   ]
  },
  {
   "cell_type": "code",
   "execution_count": 499,
   "id": "e7a54622",
   "metadata": {},
   "outputs": [
    {
     "name": "stdout",
     "output_type": "stream",
     "text": [
      "Epoch 1/10\n",
      "\u001b[1m835/835\u001b[0m \u001b[32m━━━━━━━━━━━━━━━━━━━━\u001b[0m\u001b[37m\u001b[0m \u001b[1m127s\u001b[0m 151ms/step - accuracy: 0.4804 - loss: 1.0062 - val_accuracy: 0.4787 - val_loss: 0.9967\n",
      "Epoch 2/10\n",
      "\u001b[1m835/835\u001b[0m \u001b[32m━━━━━━━━━━━━━━━━━━━━\u001b[0m\u001b[37m\u001b[0m \u001b[1m127s\u001b[0m 152ms/step - accuracy: 0.4815 - loss: 1.0021 - val_accuracy: 0.4787 - val_loss: 0.9972\n",
      "Epoch 3/10\n",
      "\u001b[1m835/835\u001b[0m \u001b[32m━━━━━━━━━━━━━━━━━━━━\u001b[0m\u001b[37m\u001b[0m \u001b[1m127s\u001b[0m 152ms/step - accuracy: 0.4815 - loss: 1.0014 - val_accuracy: 0.4787 - val_loss: 0.9975\n",
      "Epoch 4/10\n",
      "\u001b[1m835/835\u001b[0m \u001b[32m━━━━━━━━━━━━━━━━━━━━\u001b[0m\u001b[37m\u001b[0m \u001b[1m128s\u001b[0m 153ms/step - accuracy: 0.4815 - loss: 1.0004 - val_accuracy: 0.4787 - val_loss: 1.0044\n",
      "Epoch 5/10\n",
      "\u001b[1m835/835\u001b[0m \u001b[32m━━━━━━━━━━━━━━━━━━━━\u001b[0m\u001b[37m\u001b[0m \u001b[1m127s\u001b[0m 152ms/step - accuracy: 0.4815 - loss: 1.0010 - val_accuracy: 0.4787 - val_loss: 0.9961\n",
      "Epoch 6/10\n",
      "\u001b[1m835/835\u001b[0m \u001b[32m━━━━━━━━━━━━━━━━━━━━\u001b[0m\u001b[37m\u001b[0m \u001b[1m125s\u001b[0m 150ms/step - accuracy: 0.4815 - loss: 1.0007 - val_accuracy: 0.4787 - val_loss: 0.9962\n",
      "Epoch 7/10\n",
      "\u001b[1m835/835\u001b[0m \u001b[32m━━━━━━━━━━━━━━━━━━━━\u001b[0m\u001b[37m\u001b[0m \u001b[1m126s\u001b[0m 151ms/step - accuracy: 0.4815 - loss: 1.0005 - val_accuracy: 0.4787 - val_loss: 0.9973\n",
      "Epoch 8/10\n",
      "\u001b[1m835/835\u001b[0m \u001b[32m━━━━━━━━━━━━━━━━━━━━\u001b[0m\u001b[37m\u001b[0m \u001b[1m126s\u001b[0m 151ms/step - accuracy: 0.4815 - loss: 1.0006 - val_accuracy: 0.4787 - val_loss: 0.9967\n",
      "Epoch 9/10\n",
      "\u001b[1m835/835\u001b[0m \u001b[32m━━━━━━━━━━━━━━━━━━━━\u001b[0m\u001b[37m\u001b[0m \u001b[1m125s\u001b[0m 150ms/step - accuracy: 0.4815 - loss: 1.0004 - val_accuracy: 0.4787 - val_loss: 0.9961\n",
      "Epoch 10/10\n",
      "\u001b[1m835/835\u001b[0m \u001b[32m━━━━━━━━━━━━━━━━━━━━\u001b[0m\u001b[37m\u001b[0m \u001b[1m127s\u001b[0m 152ms/step - accuracy: 0.4815 - loss: 1.0004 - val_accuracy: 0.4787 - val_loss: 0.9975\n"
     ]
    },
    {
     "data": {
      "text/plain": [
       "<keras.src.callbacks.history.History at 0x1cc31b0a270>"
      ]
     },
     "execution_count": 499,
     "metadata": {},
     "output_type": "execute_result"
    }
   ],
   "source": [
    "#Entrenar el modelo\n",
    "model.fit(X_train_padded, y_train_encoded,\n",
    "          epochs=10,\n",
    "          batch_size=32,\n",
    "          validation_data=(X_test_padded, y_test_encoded),\n",
    "          verbose=1)\n"
   ]
  },
  {
   "cell_type": "code",
   "execution_count": 500,
   "id": "c67a2d0a",
   "metadata": {},
   "outputs": [
    {
     "name": "stdout",
     "output_type": "stream",
     "text": [
      "\n",
      "Precisión en el conjunto de prueba: 0.4787\n"
     ]
    }
   ],
   "source": [
    "#Evaluar el modelo ---\n",
    "loss, accuracy = model.evaluate(X_test_padded, y_test_encoded, verbose=0)\n",
    "print(f\"\\nPrecisión en el conjunto de prueba: {accuracy:.4f}\")"
   ]
  },
  {
   "cell_type": "code",
   "execution_count": 502,
   "id": "70982bed",
   "metadata": {},
   "outputs": [
    {
     "name": "stdout",
     "output_type": "stream",
     "text": [
      "Reseña original en español: 'La comida fue excelente, el servicio muy malo.'\n",
      "Reseña traducida al inglés: 'The food was excellent, the very bad service.'\n",
      "\u001b[1m1/1\u001b[0m \u001b[32m━━━━━━━━━━━━━━━━━━━━\u001b[0m\u001b[37m\u001b[0m \u001b[1m0s\u001b[0m 31ms/step\n",
      "\n",
      "La reseña: 'La comida fue excelente, el servicio terrible.'\n",
      "Predicción del sentimiento: positivo\n"
     ]
    }
   ],
   "source": [
    "#Ejemplo de predicción\n",
    "new_review_es = \"La comida fue excelente, el servicio muy malo.\"\n",
    "translator = GoogleTranslator(source='spanish', target='english')\n",
    "new_review_en = translator.translate(new_review_es)\n",
    "\n",
    "print(f\"Reseña original en español: '{new_review_es}'\")\n",
    "print(f\"Reseña traducida al inglés: '{new_review_en}'\")\n",
    "new_review_seq = tokenizer.texts_to_sequences([new_review])\n",
    "new_review_padded = pad_sequences(new_review_seq, maxlen=max_sequence_len, padding='post')\n",
    "prediction = model.predict(new_review_padded)\n",
    "predicted_sentiment = lb.inverse_transform(prediction)\n",
    "print(f\"\\nLa reseña: '{new_review}'\")\n",
    "print(f\"Predicción del sentimiento: {predicted_sentiment[0]}\")"
   ]
  }
 ],
 "metadata": {
  "kernelspec": {
   "display_name": "Python 3",
   "language": "python",
   "name": "python3"
  },
  "language_info": {
   "codemirror_mode": {
    "name": "ipython",
    "version": 3
   },
   "file_extension": ".py",
   "mimetype": "text/x-python",
   "name": "python",
   "nbconvert_exporter": "python",
   "pygments_lexer": "ipython3",
   "version": "3.13.5"
  }
 },
 "nbformat": 4,
 "nbformat_minor": 5
}
